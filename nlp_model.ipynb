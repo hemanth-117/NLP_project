{
 "cells": [
  {
   "cell_type": "code",
   "execution_count": 1,
   "id": "89d9a2fb",
   "metadata": {
    "execution": {
     "iopub.execute_input": "2023-11-27T13:23:28.892731Z",
     "iopub.status.busy": "2023-11-27T13:23:28.892349Z",
     "iopub.status.idle": "2023-11-27T13:23:37.934017Z",
     "shell.execute_reply": "2023-11-27T13:23:37.933280Z"
    },
    "papermill": {
     "duration": 9.053395,
     "end_time": "2023-11-27T13:23:37.936380",
     "exception": false,
     "start_time": "2023-11-27T13:23:28.882985",
     "status": "completed"
    },
    "tags": []
   },
   "outputs": [],
   "source": [
    "import warnings\n",
    "warnings.filterwarnings(\"ignore\")\n",
    "from sklearn.metrics import confusion_matrix, classification_report, accuracy_score\n",
    "import seaborn as sns\n",
    "import matplotlib.pyplot as plt\n",
    "import torch\n",
    "import torch.nn as nn\n",
    "import torch.optim as optim\n",
    "from torch.utils.data import DataLoader, TensorDataset\n",
    "import numpy as np\n",
    "import pandas as pd"
   ]
  },
  {
   "cell_type": "code",
   "execution_count": 2,
   "id": "b936a86c",
   "metadata": {
    "execution": {
     "iopub.execute_input": "2023-11-27T13:23:37.953733Z",
     "iopub.status.busy": "2023-11-27T13:23:37.953032Z",
     "iopub.status.idle": "2023-11-27T13:24:18.913319Z",
     "shell.execute_reply": "2023-11-27T13:24:18.912460Z"
    },
    "papermill": {
     "duration": 40.971479,
     "end_time": "2023-11-27T13:24:18.915828",
     "exception": false,
     "start_time": "2023-11-27T13:23:37.944349",
     "status": "completed"
    },
    "tags": []
   },
   "outputs": [],
   "source": [
    "train_neural = np.load('../input/features/train_neural_features.npy')\n",
    "train_statistical = np.load('../input/features/train_statistical_features.npy')\n",
    "train_external = np.load('../input/features/train_external_features.npy')"
   ]
  },
  {
   "cell_type": "code",
   "execution_count": 3,
   "id": "e3249123",
   "metadata": {
    "execution": {
     "iopub.execute_input": "2023-11-27T13:24:18.934171Z",
     "iopub.status.busy": "2023-11-27T13:24:18.933358Z",
     "iopub.status.idle": "2023-11-27T13:24:18.941157Z",
     "shell.execute_reply": "2023-11-27T13:24:18.940275Z"
    },
    "papermill": {
     "duration": 0.018884,
     "end_time": "2023-11-27T13:24:18.943183",
     "exception": false,
     "start_time": "2023-11-27T13:24:18.924299",
     "status": "completed"
    },
    "tags": []
   },
   "outputs": [
    {
     "data": {
      "text/plain": [
       "((49972, 4800), (49972, 60), (49972, 10000))"
      ]
     },
     "execution_count": 3,
     "metadata": {},
     "output_type": "execute_result"
    }
   ],
   "source": [
    "train_neural.shape,train_external.shape,train_statistical.shape"
   ]
  },
  {
   "cell_type": "code",
   "execution_count": 4,
   "id": "6f4960e9",
   "metadata": {
    "execution": {
     "iopub.execute_input": "2023-11-27T13:24:18.960437Z",
     "iopub.status.busy": "2023-11-27T13:24:18.960147Z",
     "iopub.status.idle": "2023-11-27T13:24:18.965955Z",
     "shell.execute_reply": "2023-11-27T13:24:18.964667Z"
    },
    "papermill": {
     "duration": 0.016664,
     "end_time": "2023-11-27T13:24:18.967918",
     "exception": false,
     "start_time": "2023-11-27T13:24:18.951254",
     "status": "completed"
    },
    "tags": []
   },
   "outputs": [],
   "source": [
    "stance_to_index = {'agree': 0, 'disagree': 1, 'discuss': 2, 'unrelated': 3}\n",
    "index_to_stance = {0: 'agree', 1: 'disagree', 2: 'discuss', 3: 'unrelated'}"
   ]
  },
  {
   "cell_type": "code",
   "execution_count": 5,
   "id": "76e3072e",
   "metadata": {
    "execution": {
     "iopub.execute_input": "2023-11-27T13:24:18.985111Z",
     "iopub.status.busy": "2023-11-27T13:24:18.984797Z",
     "iopub.status.idle": "2023-11-27T13:24:21.444023Z",
     "shell.execute_reply": "2023-11-27T13:24:21.443224Z"
    },
    "papermill": {
     "duration": 2.470529,
     "end_time": "2023-11-27T13:24:21.446423",
     "exception": false,
     "start_time": "2023-11-27T13:24:18.975894",
     "status": "completed"
    },
    "tags": []
   },
   "outputs": [],
   "source": [
    "df_train = pd.read_csv('../input/datafiles/train_Set.csv')\n",
    "Y_train = df_train[['Stance']].values.tolist()"
   ]
  },
  {
   "cell_type": "code",
   "execution_count": 6,
   "id": "5d8de02c",
   "metadata": {
    "execution": {
     "iopub.execute_input": "2023-11-27T13:24:21.464610Z",
     "iopub.status.busy": "2023-11-27T13:24:21.463755Z",
     "iopub.status.idle": "2023-11-27T13:24:21.501835Z",
     "shell.execute_reply": "2023-11-27T13:24:21.501084Z"
    },
    "papermill": {
     "duration": 0.049269,
     "end_time": "2023-11-27T13:24:21.503826",
     "exception": false,
     "start_time": "2023-11-27T13:24:21.454557",
     "status": "completed"
    },
    "tags": []
   },
   "outputs": [],
   "source": [
    "def to_categorical(Y, num_classes):\n",
    "    final_Y = np.zeros((len(Y), num_classes))\n",
    "    for i, stance in enumerate(Y):\n",
    "        final_Y[i][stance_to_index[stance[0]]] = 1\n",
    "    return final_Y\n",
    "\n",
    "Y_train = to_categorical(Y_train, num_classes=4)"
   ]
  },
  {
   "cell_type": "code",
   "execution_count": 7,
   "id": "7da6fee1",
   "metadata": {
    "execution": {
     "iopub.execute_input": "2023-11-27T13:24:21.520585Z",
     "iopub.status.busy": "2023-11-27T13:24:21.520282Z",
     "iopub.status.idle": "2023-11-27T13:24:22.824241Z",
     "shell.execute_reply": "2023-11-27T13:24:22.823281Z"
    },
    "papermill": {
     "duration": 1.314695,
     "end_time": "2023-11-27T13:24:22.826518",
     "exception": false,
     "start_time": "2023-11-27T13:24:21.511823",
     "status": "completed"
    },
    "tags": []
   },
   "outputs": [
    {
     "data": {
      "text/plain": [
       "device(type='cuda', index=0)"
      ]
     },
     "execution_count": 7,
     "metadata": {},
     "output_type": "execute_result"
    }
   ],
   "source": [
    "train_neural_tensor = torch.tensor(train_neural, dtype=torch.float32)\n",
    "train_statistical_tensor = torch.tensor(train_statistical, dtype=torch.float32)\n",
    "train_external_tensor = torch.tensor(train_external, dtype=torch.float32)\n",
    "Y_train_tensor = torch.tensor(Y_train, dtype=torch.float32)\n",
    "device = torch.device(\"cuda:0\" if torch.cuda.is_available() else \"cpu\")\n",
    "device"
   ]
  },
  {
   "cell_type": "code",
   "execution_count": 8,
   "id": "4a3a7f77",
   "metadata": {
    "execution": {
     "iopub.execute_input": "2023-11-27T13:24:22.843738Z",
     "iopub.status.busy": "2023-11-27T13:24:22.843417Z",
     "iopub.status.idle": "2023-11-27T13:24:22.850078Z",
     "shell.execute_reply": "2023-11-27T13:24:22.849158Z"
    },
    "papermill": {
     "duration": 0.017531,
     "end_time": "2023-11-27T13:24:22.852105",
     "exception": false,
     "start_time": "2023-11-27T13:24:22.834574",
     "status": "completed"
    },
    "tags": []
   },
   "outputs": [
    {
     "name": "stdout",
     "output_type": "stream",
     "text": [
      "torch.Size([49972, 4800]) torch.Size([49972, 60]) torch.Size([49972, 10000]) torch.Size([49972, 4])\n"
     ]
    },
    {
     "data": {
      "text/plain": [
       "49972"
      ]
     },
     "execution_count": 8,
     "metadata": {},
     "output_type": "execute_result"
    }
   ],
   "source": [
    "print(train_neural_tensor.shape,train_external_tensor.shape,train_statistical_tensor.shape,Y_train_tensor.shape)\n",
    "len(train_neural_tensor)"
   ]
  },
  {
   "cell_type": "code",
   "execution_count": 9,
   "id": "3027ebfa",
   "metadata": {
    "execution": {
     "iopub.execute_input": "2023-11-27T13:24:22.869297Z",
     "iopub.status.busy": "2023-11-27T13:24:22.869050Z",
     "iopub.status.idle": "2023-11-27T13:24:27.303522Z",
     "shell.execute_reply": "2023-11-27T13:24:27.302682Z"
    },
    "papermill": {
     "duration": 4.44573,
     "end_time": "2023-11-27T13:24:27.305954",
     "exception": false,
     "start_time": "2023-11-27T13:24:22.860224",
     "status": "completed"
    },
    "tags": []
   },
   "outputs": [],
   "source": [
    "class MyModel(nn.Module):\n",
    "    def __init__(self):\n",
    "        super(MyModel, self).__init__()\n",
    "        \n",
    "        # Define the first branch\n",
    "        self.x_model = nn.Sequential(\n",
    "            nn.Linear(4800, 500),\n",
    "            nn.Sigmoid(),\n",
    "            nn.Dropout(0.2),\n",
    "            nn.Linear(500, 100),\n",
    "            nn.Sigmoid()\n",
    "        )\n",
    "\n",
    "        # Define the second branch\n",
    "        self.y_model = nn.Sequential(\n",
    "            nn.Linear(10000, 500),\n",
    "            nn.ReLU(),\n",
    "            nn.Dropout(0.4),\n",
    "            nn.Linear(500, 50),\n",
    "            nn.ReLU()\n",
    "        )\n",
    "\n",
    "        # Define the third branch\n",
    "        self.z_model = nn.Sequential(\n",
    "            nn.Linear(60, 60),\n",
    "            nn.ReLU()\n",
    "        )\n",
    "\n",
    "        # Combine the three branches\n",
    "        self.fc_combined = nn.Sequential(\n",
    "            nn.Linear(100 + 50 + 60, 4),\n",
    "            nn.Softmax(dim=1)\n",
    "        )\n",
    "\n",
    "    def forward(self, x, y, z):\n",
    "        x_out = self.x_model(x)\n",
    "        y_out = self.y_model(y)\n",
    "        z_out = self.z_model(z)\n",
    "        combined = torch.cat([x_out, y_out, z_out], dim=1)\n",
    "        output = self.fc_combined(combined)\n",
    "        return output\n",
    "\n",
    "# Instantiate the model\n",
    "model = MyModel().to(device)"
   ]
  },
  {
   "cell_type": "code",
   "execution_count": 10,
   "id": "d24c4230",
   "metadata": {
    "execution": {
     "iopub.execute_input": "2023-11-27T13:24:27.324738Z",
     "iopub.status.busy": "2023-11-27T13:24:27.324428Z",
     "iopub.status.idle": "2023-11-27T13:24:27.329327Z",
     "shell.execute_reply": "2023-11-27T13:24:27.328497Z"
    },
    "papermill": {
     "duration": 0.016377,
     "end_time": "2023-11-27T13:24:27.331156",
     "exception": false,
     "start_time": "2023-11-27T13:24:27.314779",
     "status": "completed"
    },
    "tags": []
   },
   "outputs": [],
   "source": [
    "# Define the loss function and optimizer\n",
    "criterion = nn.CrossEntropyLoss()\n",
    "optimizer = optim.Adam(model.parameters(), lr=0.001)\n",
    "\n",
    "# Training loop\n",
    "epochs = 30\n",
    "batch_size = 200"
   ]
  },
  {
   "cell_type": "code",
   "execution_count": 11,
   "id": "91c0a67d",
   "metadata": {
    "execution": {
     "iopub.execute_input": "2023-11-27T13:24:27.348278Z",
     "iopub.status.busy": "2023-11-27T13:24:27.348022Z",
     "iopub.status.idle": "2023-11-27T13:25:25.295783Z",
     "shell.execute_reply": "2023-11-27T13:25:25.294818Z"
    },
    "papermill": {
     "duration": 57.958889,
     "end_time": "2023-11-27T13:25:25.297994",
     "exception": false,
     "start_time": "2023-11-27T13:24:27.339105",
     "status": "completed"
    },
    "tags": []
   },
   "outputs": [
    {
     "name": "stdout",
     "output_type": "stream",
     "text": [
      "Epoch [1/30], Loss: 0.004343767141042007\n",
      "Epoch [2/30], Loss: 0.004235667117428457\n",
      "Epoch [3/30], Loss: 0.004211758802462491\n",
      "Epoch [4/30], Loss: 0.004198273104872475\n",
      "Epoch [5/30], Loss: 0.0041919580612229945\n",
      "Epoch [6/30], Loss: 0.00418852862690196\n",
      "Epoch [7/30], Loss: 0.004186218244380778\n",
      "Epoch [8/30], Loss: 0.004183222099519621\n",
      "Epoch [9/30], Loss: 0.00417997619292376\n",
      "Epoch [10/30], Loss: 0.004167429918543615\n",
      "Epoch [11/30], Loss: 0.004022994353850791\n",
      "Epoch [12/30], Loss: 0.00395180874200815\n",
      "Epoch [13/30], Loss: 0.003914444954011893\n",
      "Epoch [14/30], Loss: 0.003894730126143055\n",
      "Epoch [15/30], Loss: 0.0038772365767894904\n",
      "Epoch [16/30], Loss: 0.0038695684115670845\n",
      "Epoch [17/30], Loss: 0.0038636570065357207\n",
      "Epoch [18/30], Loss: 0.0038590834831720086\n",
      "Epoch [19/30], Loss: 0.0038565411217875087\n",
      "Epoch [20/30], Loss: 0.003853043488979836\n",
      "Epoch [21/30], Loss: 0.0038472434090888598\n",
      "Epoch [22/30], Loss: 0.003845985946935429\n",
      "Epoch [23/30], Loss: 0.003843606312719785\n",
      "Epoch [24/30], Loss: 0.003843032851198566\n",
      "Epoch [25/30], Loss: 0.0038432462933656454\n",
      "Epoch [26/30], Loss: 0.0038412171256825608\n",
      "Epoch [27/30], Loss: 0.0038429700666533875\n",
      "Epoch [28/30], Loss: 0.0038398848595329505\n",
      "Epoch [29/30], Loss: 0.0038372279597103554\n",
      "Epoch [30/30], Loss: 0.003837220680290939\n"
     ]
    }
   ],
   "source": [
    "for epoch in range(epochs):\n",
    "    model.train()\n",
    "    run_loss = 0.0\n",
    "    for i in range(0, len(train_neural_tensor), batch_size):\n",
    "        x_batch = train_neural_tensor[i:i+batch_size]\n",
    "        y_batch = train_external_tensor[i:i+batch_size]\n",
    "        z_batch = train_statistical_tensor[i:i+batch_size]\n",
    "        labels = Y_train_tensor[i:i+batch_size]\n",
    "        # Zero the gradients\n",
    "        optimizer.zero_grad()\n",
    "\n",
    "        # Forward pass\n",
    "        x_batch,y_batch,z_batch = x_batch.to(device),y_batch.to(device),z_batch.to(device)\n",
    "        labels = labels.to(device)\n",
    "        outputs = model(x_batch, z_batch, y_batch)\n",
    "        loss = criterion(outputs, torch.argmax(labels, dim=1))\n",
    "\n",
    "        # Backward pass and optimization\n",
    "        loss.backward()\n",
    "        run_loss += loss.item()\n",
    "        optimizer.step()\n",
    "\n",
    "    print(f'Epoch [{epoch+1}/{epochs}], Loss: {run_loss/len(train_neural_tensor)}')\n",
    "\n",
    "# Save the model\n",
    "torch.save(model.state_dict(), 'final_model.pth')"
   ]
  },
  {
   "cell_type": "code",
   "execution_count": 12,
   "id": "bc78304a",
   "metadata": {
    "execution": {
     "iopub.execute_input": "2023-11-27T13:25:25.320789Z",
     "iopub.status.busy": "2023-11-27T13:25:25.320006Z",
     "iopub.status.idle": "2023-11-27T13:25:46.577101Z",
     "shell.execute_reply": "2023-11-27T13:25:46.576280Z"
    },
    "papermill": {
     "duration": 21.270745,
     "end_time": "2023-11-27T13:25:46.579439",
     "exception": false,
     "start_time": "2023-11-27T13:25:25.308694",
     "status": "completed"
    },
    "tags": []
   },
   "outputs": [],
   "source": [
    "test_neural = np.load('../input/features/test_neural_features.npy')\n",
    "test_statistical = np.load('../input/features/test_statistical_features.npy')\n",
    "test_external = np.load('../input/features/test_external_features.npy')"
   ]
  },
  {
   "cell_type": "code",
   "execution_count": 13,
   "id": "2bc7f4e6",
   "metadata": {
    "execution": {
     "iopub.execute_input": "2023-11-27T13:25:46.601555Z",
     "iopub.status.busy": "2023-11-27T13:25:46.601227Z",
     "iopub.status.idle": "2023-11-27T13:25:46.607240Z",
     "shell.execute_reply": "2023-11-27T13:25:46.606397Z"
    },
    "papermill": {
     "duration": 0.01922,
     "end_time": "2023-11-27T13:25:46.609168",
     "exception": false,
     "start_time": "2023-11-27T13:25:46.589948",
     "status": "completed"
    },
    "tags": []
   },
   "outputs": [
    {
     "data": {
      "text/plain": [
       "((25413, 4800), (25413, 10000), (25413, 60))"
      ]
     },
     "execution_count": 13,
     "metadata": {},
     "output_type": "execute_result"
    }
   ],
   "source": [
    "test_neural.shape,test_statistical.shape,test_external.shape"
   ]
  },
  {
   "cell_type": "code",
   "execution_count": 14,
   "id": "bb86a2ed",
   "metadata": {
    "execution": {
     "iopub.execute_input": "2023-11-27T13:25:46.631636Z",
     "iopub.status.busy": "2023-11-27T13:25:46.630891Z",
     "iopub.status.idle": "2023-11-27T13:25:47.728673Z",
     "shell.execute_reply": "2023-11-27T13:25:47.727295Z"
    },
    "papermill": {
     "duration": 1.112682,
     "end_time": "2023-11-27T13:25:47.732263",
     "exception": false,
     "start_time": "2023-11-27T13:25:46.619581",
     "status": "completed"
    },
    "tags": []
   },
   "outputs": [],
   "source": [
    "df_test = pd.read_csv('../input/datafiles/test_Set.csv')\n",
    "Y_test = df_test[['Stance']].values.tolist()\n",
    "Y_res = Y_test"
   ]
  },
  {
   "cell_type": "code",
   "execution_count": 15,
   "id": "0488ff40",
   "metadata": {
    "execution": {
     "iopub.execute_input": "2023-11-27T13:25:47.769004Z",
     "iopub.status.busy": "2023-11-27T13:25:47.768402Z",
     "iopub.status.idle": "2023-11-27T13:25:47.790301Z",
     "shell.execute_reply": "2023-11-27T13:25:47.789399Z"
    },
    "papermill": {
     "duration": 0.040602,
     "end_time": "2023-11-27T13:25:47.792689",
     "exception": false,
     "start_time": "2023-11-27T13:25:47.752087",
     "status": "completed"
    },
    "tags": []
   },
   "outputs": [],
   "source": [
    "Y_test = to_categorical(Y_test, num_classes=4)"
   ]
  },
  {
   "cell_type": "code",
   "execution_count": 16,
   "id": "3b1500a9",
   "metadata": {
    "execution": {
     "iopub.execute_input": "2023-11-27T13:25:47.814849Z",
     "iopub.status.busy": "2023-11-27T13:25:47.814561Z",
     "iopub.status.idle": "2023-11-27T13:25:47.821081Z",
     "shell.execute_reply": "2023-11-27T13:25:47.820095Z"
    },
    "papermill": {
     "duration": 0.0199,
     "end_time": "2023-11-27T13:25:47.823076",
     "exception": false,
     "start_time": "2023-11-27T13:25:47.803176",
     "status": "completed"
    },
    "tags": []
   },
   "outputs": [
    {
     "data": {
      "text/plain": [
       "MyModel(\n",
       "  (x_model): Sequential(\n",
       "    (0): Linear(in_features=4800, out_features=500, bias=True)\n",
       "    (1): Sigmoid()\n",
       "    (2): Dropout(p=0.2, inplace=False)\n",
       "    (3): Linear(in_features=500, out_features=100, bias=True)\n",
       "    (4): Sigmoid()\n",
       "  )\n",
       "  (y_model): Sequential(\n",
       "    (0): Linear(in_features=10000, out_features=500, bias=True)\n",
       "    (1): ReLU()\n",
       "    (2): Dropout(p=0.4, inplace=False)\n",
       "    (3): Linear(in_features=500, out_features=50, bias=True)\n",
       "    (4): ReLU()\n",
       "  )\n",
       "  (z_model): Sequential(\n",
       "    (0): Linear(in_features=60, out_features=60, bias=True)\n",
       "    (1): ReLU()\n",
       "  )\n",
       "  (fc_combined): Sequential(\n",
       "    (0): Linear(in_features=210, out_features=4, bias=True)\n",
       "    (1): Softmax(dim=1)\n",
       "  )\n",
       ")"
      ]
     },
     "execution_count": 16,
     "metadata": {},
     "output_type": "execute_result"
    }
   ],
   "source": [
    "model.eval()"
   ]
  },
  {
   "cell_type": "code",
   "execution_count": 17,
   "id": "45037967",
   "metadata": {
    "execution": {
     "iopub.execute_input": "2023-11-27T13:25:47.846250Z",
     "iopub.status.busy": "2023-11-27T13:25:47.845522Z",
     "iopub.status.idle": "2023-11-27T13:25:48.682624Z",
     "shell.execute_reply": "2023-11-27T13:25:48.681820Z"
    },
    "papermill": {
     "duration": 0.851683,
     "end_time": "2023-11-27T13:25:48.685212",
     "exception": false,
     "start_time": "2023-11-27T13:25:47.833529",
     "status": "completed"
    },
    "tags": []
   },
   "outputs": [],
   "source": [
    "test_neural_tensor = torch.tensor(test_neural, dtype=torch.float32)\n",
    "test_statistical_tensor = torch.tensor(test_statistical, dtype=torch.float32)\n",
    "test_external_tensor = torch.tensor(test_external, dtype=torch.float32)\n",
    "Y_test_tensor = torch.tensor(Y_test, dtype=torch.float32)"
   ]
  },
  {
   "cell_type": "code",
   "execution_count": 18,
   "id": "bbcf26b7",
   "metadata": {
    "execution": {
     "iopub.execute_input": "2023-11-27T13:25:48.715408Z",
     "iopub.status.busy": "2023-11-27T13:25:48.715057Z",
     "iopub.status.idle": "2023-11-27T13:25:48.723196Z",
     "shell.execute_reply": "2023-11-27T13:25:48.722261Z"
    },
    "papermill": {
     "duration": 0.024913,
     "end_time": "2023-11-27T13:25:48.725782",
     "exception": false,
     "start_time": "2023-11-27T13:25:48.700869",
     "status": "completed"
    },
    "tags": []
   },
   "outputs": [
    {
     "name": "stdout",
     "output_type": "stream",
     "text": [
      "torch.Size([25413, 4800]) torch.Size([25413, 60]) torch.Size([25413, 10000]) torch.Size([25413, 4])\n"
     ]
    },
    {
     "data": {
      "text/plain": [
       "25413"
      ]
     },
     "execution_count": 18,
     "metadata": {},
     "output_type": "execute_result"
    }
   ],
   "source": [
    "print(test_neural_tensor.shape,test_external_tensor.shape,test_statistical_tensor.shape,Y_test_tensor.shape)\n",
    "len(test_neural_tensor)"
   ]
  },
  {
   "cell_type": "code",
   "execution_count": 19,
   "id": "1d164429",
   "metadata": {
    "execution": {
     "iopub.execute_input": "2023-11-27T13:25:48.748657Z",
     "iopub.status.busy": "2023-11-27T13:25:48.748370Z",
     "iopub.status.idle": "2023-11-27T13:25:49.075759Z",
     "shell.execute_reply": "2023-11-27T13:25:49.074947Z"
    },
    "papermill": {
     "duration": 0.341498,
     "end_time": "2023-11-27T13:25:49.078071",
     "exception": false,
     "start_time": "2023-11-27T13:25:48.736573",
     "status": "completed"
    },
    "tags": []
   },
   "outputs": [],
   "source": [
    "predicted = None\n",
    "with torch.no_grad():\n",
    "    outputs = model(test_neural_tensor.to(device),test_statistical_tensor.to(device),test_external_tensor.to(device))\n",
    "    _, predicted = torch.max(outputs, 1)"
   ]
  },
  {
   "cell_type": "code",
   "execution_count": 20,
   "id": "5f76ab9c",
   "metadata": {
    "execution": {
     "iopub.execute_input": "2023-11-27T13:25:49.101509Z",
     "iopub.status.busy": "2023-11-27T13:25:49.101211Z",
     "iopub.status.idle": "2023-11-27T13:25:49.232917Z",
     "shell.execute_reply": "2023-11-27T13:25:49.232052Z"
    },
    "papermill": {
     "duration": 0.145421,
     "end_time": "2023-11-27T13:25:49.234810",
     "exception": false,
     "start_time": "2023-11-27T13:25:49.089389",
     "status": "completed"
    },
    "tags": []
   },
   "outputs": [],
   "source": [
    "predictions = [index_to_stance[p.item()] for p in predicted.cpu().numpy()]\n",
    "# predictions = np.array(predictions)"
   ]
  },
  {
   "cell_type": "code",
   "execution_count": 21,
   "id": "c585b616",
   "metadata": {
    "execution": {
     "iopub.execute_input": "2023-11-27T13:25:49.257061Z",
     "iopub.status.busy": "2023-11-27T13:25:49.256799Z",
     "iopub.status.idle": "2023-11-27T13:25:49.266052Z",
     "shell.execute_reply": "2023-11-27T13:25:49.265213Z"
    },
    "papermill": {
     "duration": 0.022436,
     "end_time": "2023-11-27T13:25:49.267829",
     "exception": false,
     "start_time": "2023-11-27T13:25:49.245393",
     "status": "completed"
    },
    "tags": []
   },
   "outputs": [
    {
     "data": {
      "text/plain": [
       "(list, list)"
      ]
     },
     "execution_count": 21,
     "metadata": {},
     "output_type": "execute_result"
    }
   ],
   "source": [
    "Y_res = [item for sublist in Y_res for item in sublist]\n",
    "type(predictions),type(Y_res)"
   ]
  },
  {
   "cell_type": "code",
   "execution_count": 22,
   "id": "143cf2de",
   "metadata": {
    "execution": {
     "iopub.execute_input": "2023-11-27T13:25:49.290381Z",
     "iopub.status.busy": "2023-11-27T13:25:49.290087Z",
     "iopub.status.idle": "2023-11-27T13:25:49.294815Z",
     "shell.execute_reply": "2023-11-27T13:25:49.293502Z"
    },
    "papermill": {
     "duration": 0.018466,
     "end_time": "2023-11-27T13:25:49.297052",
     "exception": false,
     "start_time": "2023-11-27T13:25:49.278586",
     "status": "completed"
    },
    "tags": []
   },
   "outputs": [],
   "source": [
    "LABELS = ['agree', 'disagree', 'discuss', 'unrelated']\n",
    "LABELS_RELATED = ['unrelated', 'related']\n",
    "RELATED = LABELS[0:3]"
   ]
  },
  {
   "cell_type": "code",
   "execution_count": 23,
   "id": "82ad273e",
   "metadata": {
    "execution": {
     "iopub.execute_input": "2023-11-27T13:25:49.319330Z",
     "iopub.status.busy": "2023-11-27T13:25:49.319094Z",
     "iopub.status.idle": "2023-11-27T13:25:49.325268Z",
     "shell.execute_reply": "2023-11-27T13:25:49.324511Z"
    },
    "papermill": {
     "duration": 0.0194,
     "end_time": "2023-11-27T13:25:49.327194",
     "exception": false,
     "start_time": "2023-11-27T13:25:49.307794",
     "status": "completed"
    },
    "tags": []
   },
   "outputs": [],
   "source": [
    "def score_submission(gold_labels, test_labels):\n",
    "    score = 0.0\n",
    "    cm = [[0, 0, 0, 0],\n",
    "          [0, 0, 0, 0],\n",
    "          [0, 0, 0, 0],\n",
    "          [0, 0, 0, 0]]\n",
    "\n",
    "    for i, (g, t) in enumerate(zip(gold_labels, test_labels)):\n",
    "        g_stance, t_stance = g, t\n",
    "        if g_stance == t_stance:\n",
    "            score += 0.25\n",
    "            if g_stance != 'unrelated':\n",
    "                score += 0.50\n",
    "        if g_stance in RELATED and t_stance in RELATED:\n",
    "            score += 0.25\n",
    "\n",
    "        cm[LABELS.index(g_stance)][LABELS.index(t_stance)] += 1\n",
    "\n",
    "    return score, cm"
   ]
  },
  {
   "cell_type": "code",
   "execution_count": 24,
   "id": "276bbb12",
   "metadata": {
    "execution": {
     "iopub.execute_input": "2023-11-27T13:25:49.350636Z",
     "iopub.status.busy": "2023-11-27T13:25:49.350366Z",
     "iopub.status.idle": "2023-11-27T13:25:49.377651Z",
     "shell.execute_reply": "2023-11-27T13:25:49.376999Z"
    },
    "papermill": {
     "duration": 0.041042,
     "end_time": "2023-11-27T13:25:49.379578",
     "exception": false,
     "start_time": "2023-11-27T13:25:49.338536",
     "status": "completed"
    },
    "tags": []
   },
   "outputs": [],
   "source": [
    "score, cm = score_submission(Y_res, predictions)"
   ]
  },
  {
   "cell_type": "code",
   "execution_count": 25,
   "id": "1f0c4cb7",
   "metadata": {
    "execution": {
     "iopub.execute_input": "2023-11-27T13:25:49.401784Z",
     "iopub.status.busy": "2023-11-27T13:25:49.401518Z",
     "iopub.status.idle": "2023-11-27T13:25:49.406891Z",
     "shell.execute_reply": "2023-11-27T13:25:49.405833Z"
    },
    "papermill": {
     "duration": 0.018498,
     "end_time": "2023-11-27T13:25:49.408790",
     "exception": false,
     "start_time": "2023-11-27T13:25:49.390292",
     "status": "completed"
    },
    "tags": []
   },
   "outputs": [
    {
     "name": "stdout",
     "output_type": "stream",
     "text": [
      "Score: 9499.0\n",
      "[[  942     0   831   130]\n",
      " [  252     0   322   123]\n",
      " [  562     0  3612   290]\n",
      " [  142     0   394 17813]]\n"
     ]
    }
   ],
   "source": [
    "print(f'Score: {score}')\n",
    "print(np.array(cm))"
   ]
  },
  {
   "cell_type": "code",
   "execution_count": 26,
   "id": "ae0c08fe",
   "metadata": {
    "execution": {
     "iopub.execute_input": "2023-11-27T13:25:49.431306Z",
     "iopub.status.busy": "2023-11-27T13:25:49.431044Z",
     "iopub.status.idle": "2023-11-27T13:25:49.452029Z",
     "shell.execute_reply": "2023-11-27T13:25:49.451261Z"
    },
    "papermill": {
     "duration": 0.034151,
     "end_time": "2023-11-27T13:25:49.453842",
     "exception": false,
     "start_time": "2023-11-27T13:25:49.419691",
     "status": "completed"
    },
    "tags": []
   },
   "outputs": [
    {
     "data": {
      "text/plain": [
       "((25413,), (25413,))"
      ]
     },
     "execution_count": 26,
     "metadata": {},
     "output_type": "execute_result"
    }
   ],
   "source": [
    "predictions = np.array(predictions)\n",
    "Y_res = np.array(Y_res)\n",
    "predictions.shape,Y_res.shape"
   ]
  },
  {
   "cell_type": "code",
   "execution_count": 27,
   "id": "ea783a0e",
   "metadata": {
    "execution": {
     "iopub.execute_input": "2023-11-27T13:25:49.518325Z",
     "iopub.status.busy": "2023-11-27T13:25:49.518005Z",
     "iopub.status.idle": "2023-11-27T13:25:50.294469Z",
     "shell.execute_reply": "2023-11-27T13:25:50.293495Z"
    },
    "papermill": {
     "duration": 0.79106,
     "end_time": "2023-11-27T13:25:50.296877",
     "exception": false,
     "start_time": "2023-11-27T13:25:49.505817",
     "status": "completed"
    },
    "tags": []
   },
   "outputs": [
    {
     "name": "stdout",
     "output_type": "stream",
     "text": [
      "Classification Report:\n",
      "              precision    recall  f1-score   support\n",
      "\n",
      "       agree       0.50      0.50      0.50      1903\n",
      "    disagree       0.00      0.00      0.00       697\n",
      "     discuss       0.70      0.81      0.75      4464\n",
      "   unrelated       0.97      0.97      0.97     18349\n",
      "\n",
      "    accuracy                           0.88     25413\n",
      "   macro avg       0.54      0.57      0.55     25413\n",
      "weighted avg       0.86      0.88      0.87     25413\n",
      "\n"
     ]
    },
    {
     "data": {
      "image/png": "[encoded data removed]",
      "text/plain": [
       "<Figure size 800x600 with 2 Axes>"
      ]
     },
     "metadata": {},
     "output_type": "display_data"
    },
    {
     "name": "stdout",
     "output_type": "stream",
     "text": [
      "Accuracy: 0.8801400857828671\n"
     ]
    }
   ],
   "source": [
    "# Calculate metrics\n",
    "\n",
    "print(\"Classification Report:\")\n",
    "print(classification_report(np.array(Y_res), predictions, target_names=['agree','disagree','discuss','unrelated']))\n",
    "\n",
    "cm_test = confusion_matrix(np.array(Y_res), predictions)\n",
    "\n",
    "plt.figure(figsize=(8, 6))\n",
    "sns.heatmap(cm_test, annot=True, fmt='d', cmap='Blues', xticklabels=['agree','disagree','discuss','unrelated'], yticklabels=['agree','disagree','discuss','unrelated'])\n",
    "plt.xlabel('Predicted')\n",
    "plt.ylabel('True')\n",
    "plt.title('Confusion Matrix (Test Set)')\n",
    "plt.show()\n",
    "\n",
    "accuracy = accuracy_score(np.array(Y_res), predictions)\n",
    "print(f\"Accuracy: {accuracy}\")"
   ]
  },
  {
   "cell_type": "code",
   "execution_count": null,
   "id": "ddc7d21a",
   "metadata": {
    "papermill": {
     "duration": 0.011537,
     "end_time": "2023-11-27T13:25:50.322309",
     "exception": false,
     "start_time": "2023-11-27T13:25:50.310772",
     "status": "completed"
    },
    "tags": []
   },
   "outputs": [],
   "source": []
  }
 ],
 "metadata": {
  "kaggle": {
   "accelerator": "nvidiaTeslaT4",
   "dataSources": [
    {
     "datasetId": 3982118,
     "sourceId": 6935001,
     "sourceType": "datasetVersion"
    },
    {
     "datasetId": 3986588,
     "sourceId": 6941913,
     "sourceType": "datasetVersion"
    },
    {
     "datasetId": 3982057,
     "sourceId": 7018959,
     "sourceType": "datasetVersion"
    }
   ],
   "dockerImageVersionId": 30580,
   "isGpuEnabled": true,
   "isInternetEnabled": true,
   "language": "python",
   "sourceType": "notebook"
  },
  "kernelspec": {
   "display_name": "Python 3",
   "language": "python",
   "name": "python3"
  },
  "language_info": {
   "codemirror_mode": {
    "name": "ipython",
    "version": 3
   },
   "file_extension": ".py",
   "mimetype": "text/x-python",
   "name": "python",
   "nbconvert_exporter": "python",
   "pygments_lexer": "ipython3",
   "version": "3.10.12"
  },
  "papermill": {
   "default_parameters": {},
   "duration": 148.356705,
   "end_time": "2023-11-27T13:25:52.557386",
   "environment_variables": {},
   "exception": null,
   "input_path": "__notebook__.ipynb",
   "output_path": "__notebook__.ipynb",
   "parameters": {},
   "start_time": "2023-11-27T13:23:24.200681",
   "version": "2.4.0"
  }
 },
 "nbformat": 4,
 "nbformat_minor": 5
}
